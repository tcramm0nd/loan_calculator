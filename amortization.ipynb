{
 "cells": [
  {
   "cell_type": "code",
   "execution_count": 57,
   "metadata": {},
   "outputs": [],
   "source": [
    "apr = 0.03\n",
    "loan_amount = 10000\n",
    "term = 7\n",
    "\n",
    "import pandas as pd"
   ]
  },
  {
   "cell_type": "code",
   "execution_count": 105,
   "metadata": {},
   "outputs": [],
   "source": [
    "class Loan:\n",
    "    def __init__(self, loan_amount, apr, term):\n",
    "        self.initial_principal = loan_amount\n",
    "        self.principal = loan_amount\n",
    "        self.apr = apr\n",
    "        self.mpr = apr / 12\n",
    "        self.initial_term = term * 12\n",
    "        self.term_remaining = term * 12\n",
    "        self.total_interest_paid = 0\n",
    "        self.monthly_payment = round((loan_amount * self.mpr)/(1-(1+self.mpr) ** -self.initial_term), 2)\n",
    "        \n",
    "    def update_payment(self):\n",
    "        self.current_interest_payment = round((self.principal * self.mpr), 2)\n",
    "        self.current_principal_payment = round((self.monthly_payment - self.current_interest_payment), 2)\n",
    "            \n",
    "    def make_payment(self, regular=True, payment=0):\n",
    "        if regular:\n",
    "            self.update_payment()\n",
    "            self.principal -= self.current_principal_payment\n",
    "            self.term_remaining -= 1\n",
    "            self.total_interest_paid += self.current_interest_payment\n",
    "            self.principal = round(self.principal, 2)\n",
    "            self.total_interest_paid = round(self.total_interest_paid, 2)\n",
    "        else:\n",
    "            self.principal -= payment\n",
    "        \n",
    "    def pay_off(self):\n",
    "        payments = []\n",
    "        while self.principal > 0 and self.term_remaining > 0:\n",
    "            self.make_payment()\n",
    "            payments.append([(self.initial_term - self.term_remaining),\n",
    "                             self.principal,\n",
    "                             self.current_principal_payment,\n",
    "                             self.current_interest_payment,\n",
    "                             self.total_interest_paid])          \n",
    "        return payments\n",
    "                      \n",
    "            \n",
    "    def amoritize(self):\n",
    "        data = self.pay_off()\n",
    "        self.amoritization_table = pd.DataFrame(data, columns=['Month no',\n",
    "                                                    'Principal Remaining',\n",
    "                                                    'Principal Payment',\n",
    "                                                    'Interest Payment',\n",
    "                                                    'Total Interest Paid'])\n",
    "            "
   ]
  },
  {
   "cell_type": "code",
   "execution_count": 106,
   "metadata": {},
   "outputs": [],
   "source": [
    "mortgage = Loan(loan_amount, apr, term)"
   ]
  },
  {
   "cell_type": "code",
   "execution_count": 107,
   "metadata": {},
   "outputs": [],
   "source": [
    "mortgage.amoritize()"
   ]
  },
  {
   "cell_type": "code",
   "execution_count": 108,
   "metadata": {},
   "outputs": [
    {
     "data": {
      "text/html": [
       "<div>\n",
       "<style scoped>\n",
       "    .dataframe tbody tr th:only-of-type {\n",
       "        vertical-align: middle;\n",
       "    }\n",
       "\n",
       "    .dataframe tbody tr th {\n",
       "        vertical-align: top;\n",
       "    }\n",
       "\n",
       "    .dataframe thead th {\n",
       "        text-align: right;\n",
       "    }\n",
       "</style>\n",
       "<table border=\"1\" class=\"dataframe\">\n",
       "  <thead>\n",
       "    <tr style=\"text-align: right;\">\n",
       "      <th></th>\n",
       "      <th>Month no</th>\n",
       "      <th>Principal Remaining</th>\n",
       "      <th>Principal Payment</th>\n",
       "      <th>Interest Payment</th>\n",
       "      <th>Total Interest Paid</th>\n",
       "    </tr>\n",
       "  </thead>\n",
       "  <tbody>\n",
       "    <tr>\n",
       "      <th>0</th>\n",
       "      <td>1</td>\n",
       "      <td>9892.87</td>\n",
       "      <td>107.13</td>\n",
       "      <td>25.00</td>\n",
       "      <td>25.00</td>\n",
       "    </tr>\n",
       "    <tr>\n",
       "      <th>1</th>\n",
       "      <td>2</td>\n",
       "      <td>9785.47</td>\n",
       "      <td>107.40</td>\n",
       "      <td>24.73</td>\n",
       "      <td>49.73</td>\n",
       "    </tr>\n",
       "    <tr>\n",
       "      <th>2</th>\n",
       "      <td>3</td>\n",
       "      <td>9677.80</td>\n",
       "      <td>107.67</td>\n",
       "      <td>24.46</td>\n",
       "      <td>74.19</td>\n",
       "    </tr>\n",
       "    <tr>\n",
       "      <th>3</th>\n",
       "      <td>4</td>\n",
       "      <td>9569.86</td>\n",
       "      <td>107.94</td>\n",
       "      <td>24.19</td>\n",
       "      <td>98.38</td>\n",
       "    </tr>\n",
       "    <tr>\n",
       "      <th>4</th>\n",
       "      <td>5</td>\n",
       "      <td>9461.65</td>\n",
       "      <td>108.21</td>\n",
       "      <td>23.92</td>\n",
       "      <td>122.30</td>\n",
       "    </tr>\n",
       "    <tr>\n",
       "      <th>...</th>\n",
       "      <td>...</td>\n",
       "      <td>...</td>\n",
       "      <td>...</td>\n",
       "      <td>...</td>\n",
       "      <td>...</td>\n",
       "    </tr>\n",
       "    <tr>\n",
       "      <th>79</th>\n",
       "      <td>80</td>\n",
       "      <td>525.50</td>\n",
       "      <td>130.49</td>\n",
       "      <td>1.64</td>\n",
       "      <td>1095.90</td>\n",
       "    </tr>\n",
       "    <tr>\n",
       "      <th>80</th>\n",
       "      <td>81</td>\n",
       "      <td>394.68</td>\n",
       "      <td>130.82</td>\n",
       "      <td>1.31</td>\n",
       "      <td>1097.21</td>\n",
       "    </tr>\n",
       "    <tr>\n",
       "      <th>81</th>\n",
       "      <td>82</td>\n",
       "      <td>263.54</td>\n",
       "      <td>131.14</td>\n",
       "      <td>0.99</td>\n",
       "      <td>1098.20</td>\n",
       "    </tr>\n",
       "    <tr>\n",
       "      <th>82</th>\n",
       "      <td>83</td>\n",
       "      <td>132.07</td>\n",
       "      <td>131.47</td>\n",
       "      <td>0.66</td>\n",
       "      <td>1098.86</td>\n",
       "    </tr>\n",
       "    <tr>\n",
       "      <th>83</th>\n",
       "      <td>84</td>\n",
       "      <td>0.27</td>\n",
       "      <td>131.80</td>\n",
       "      <td>0.33</td>\n",
       "      <td>1099.19</td>\n",
       "    </tr>\n",
       "  </tbody>\n",
       "</table>\n",
       "<p>84 rows × 5 columns</p>\n",
       "</div>"
      ],
      "text/plain": [
       "    Month no  Principal Remaining  Principal Payment  Interest Payment  \\\n",
       "0          1              9892.87             107.13             25.00   \n",
       "1          2              9785.47             107.40             24.73   \n",
       "2          3              9677.80             107.67             24.46   \n",
       "3          4              9569.86             107.94             24.19   \n",
       "4          5              9461.65             108.21             23.92   \n",
       "..       ...                  ...                ...               ...   \n",
       "79        80               525.50             130.49              1.64   \n",
       "80        81               394.68             130.82              1.31   \n",
       "81        82               263.54             131.14              0.99   \n",
       "82        83               132.07             131.47              0.66   \n",
       "83        84                 0.27             131.80              0.33   \n",
       "\n",
       "    Total Interest Paid  \n",
       "0                 25.00  \n",
       "1                 49.73  \n",
       "2                 74.19  \n",
       "3                 98.38  \n",
       "4                122.30  \n",
       "..                  ...  \n",
       "79              1095.90  \n",
       "80              1097.21  \n",
       "81              1098.20  \n",
       "82              1098.86  \n",
       "83              1099.19  \n",
       "\n",
       "[84 rows x 5 columns]"
      ]
     },
     "execution_count": 108,
     "metadata": {},
     "output_type": "execute_result"
    }
   ],
   "source": [
    "mortgage.amoritization_table"
   ]
  },
  {
   "cell_type": "code",
   "execution_count": 17,
   "metadata": {},
   "outputs": [
    {
     "data": {
      "text/plain": [
       "132.13"
      ]
     },
     "execution_count": 17,
     "metadata": {},
     "output_type": "execute_result"
    }
   ],
   "source": [
    "mortgage.monthly_payment"
   ]
  },
  {
   "cell_type": "code",
   "execution_count": 18,
   "metadata": {},
   "outputs": [
    {
     "data": {
      "text/plain": [
       "9892.87"
      ]
     },
     "execution_count": 18,
     "metadata": {},
     "output_type": "execute_result"
    }
   ],
   "source": [
    "mortgage.principal"
   ]
  },
  {
   "cell_type": "code",
   "execution_count": 43,
   "metadata": {},
   "outputs": [
    {
     "data": {
      "text/plain": [
       "<enumerate at 0x7fedf76cf750>"
      ]
     },
     "execution_count": 43,
     "metadata": {},
     "output_type": "execute_result"
    }
   ],
   "source": [
    "x=84\n"
   ]
  },
  {
   "cell_type": "code",
   "execution_count": 8,
   "metadata": {},
   "outputs": [
    {
     "name": "stdout",
     "output_type": "stream",
     "text": [
      "2020-09-28\n"
     ]
    }
   ],
   "source": [
    "import datetime as dt\n",
    "print(dt.date.today())"
   ]
  },
  {
   "cell_type": "code",
   "execution_count": null,
   "metadata": {},
   "outputs": [],
   "source": []
  }
 ],
 "metadata": {
  "kernelspec": {
   "display_name": "Python 3",
   "language": "python",
   "name": "python3"
  },
  "language_info": {
   "codemirror_mode": {
    "name": "ipython",
    "version": 3
   },
   "file_extension": ".py",
   "mimetype": "text/x-python",
   "name": "python",
   "nbconvert_exporter": "python",
   "pygments_lexer": "ipython3",
   "version": "3.6.9"
  },
  "varInspector": {
   "cols": {
    "lenName": 16,
    "lenType": 16,
    "lenVar": 40
   },
   "kernels_config": {
    "python": {
     "delete_cmd_postfix": "",
     "delete_cmd_prefix": "del ",
     "library": "var_list.py",
     "varRefreshCmd": "print(var_dic_list())"
    },
    "r": {
     "delete_cmd_postfix": ") ",
     "delete_cmd_prefix": "rm(",
     "library": "var_list.r",
     "varRefreshCmd": "cat(var_dic_list()) "
    }
   },
   "types_to_exclude": [
    "module",
    "function",
    "builtin_function_or_method",
    "instance",
    "_Feature"
   ],
   "window_display": false
  }
 },
 "nbformat": 4,
 "nbformat_minor": 4
}
